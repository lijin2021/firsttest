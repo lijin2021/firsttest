{
 "cells": [
  {
   "cell_type": "code",
   "execution_count": null,
   "metadata": {
    "collapsed": true,
    "scrolled": true
   },
   "outputs": [],
   "source": [
    "import requests\n",
    "from bs4 import BeautifulSoup\n",
    "import re\n",
    "import traceback\n",
    "def getHTML(url,code='utf-8'):\n",
    "    try:\n",
    "        r=requests.get(url,timeout=30)\n",
    "        r.raise_for_status()\n",
    "        r.encoding=code\n",
    "        return r.text\n",
    "    except:\n",
    "        return \"\"\n",
    "def getStocklist(list,stock_url):\n",
    "    html=getHTML(stock_url,'GB2312')\n",
    "    soup=BeautifulSoup(html,'html.parser')\n",
    "    a=soup.find_all('a')\n",
    "    for i in a:\n",
    "        try:\n",
    "            href=i.attrs['href']\n",
    "            list.append(re.findall(r\"[s][hz]\\d{6}\",href)[0])\n",
    "        except:\n",
    "            continue\n",
    "def getStockinfo(list,stock_url,fpath):\n",
    "    count=0\n",
    "    for stock in list:\n",
    "        url=stock_url+stock+\".html\"\n",
    "        html=getHTML(url)\n",
    "        try:\n",
    "            if html== \"\":\n",
    "                continue\n",
    "            infoDict={}\n",
    "            soup=BeautifulSoup(html,'html.parser')\n",
    "            stockinfo=soup.find('div',attrs={'class':'stock-bets'})\n",
    "            name=stockinfo.find_all(attrs={'class':'bets-name'})[0]\n",
    "            infoDict.update({'股票名称':name.text.split()[0]})\n",
    "            keylist=stockinfo.find_all('dt')\n",
    "            valuelist=stockinfo.find_all('dd')\n",
    "            for i in range(len(keylist)):\n",
    "                key=keylist[i].text\n",
    "                value=valuelist[i].text\n",
    "                infoDict[key]=value\n",
    "       \n",
    "            with open(fpath,'a',encoding='utf-8') as f:\n",
    "                f.write(str(infoDict)+'\\n')\n",
    "                count=count+1\n",
    "                print('\\r当前速度:{:.2f}%'.format(count*100/len(list)),end='')\n",
    "        except:\n",
    "            count=count+1\n",
    "            print('\\r当前速度:{:.2f}%'.format(count*100/len(list)),end='')\n",
    "            continue\n",
    "            \n",
    "    \n",
    "    return \"\"\n",
    "def main():\n",
    "    shock_list_url='http://quote.eastmoney.com/stock_list.html'\n",
    "    stock_info_url='https://gupiao.baidu.com/stock/'\n",
    "    output_file='D://NewBaiduStockInfo1.txt'\n",
    "    slist=[]\n",
    "    getStocklist(slist,shock_list_url)\n",
    "    getStockinfo(slist,stock_info_url,output_file)\n",
    "main()"
   ]
  },
  {
   "cell_type": "code",
   "execution_count": null,
   "metadata": {
    "collapsed": true
   },
   "outputs": [],
   "source": []
  },
  {
   "cell_type": "code",
   "execution_count": null,
   "metadata": {
    "collapsed": true
   },
   "outputs": [],
   "source": []
  }
 ],
 "metadata": {
  "kernelspec": {
   "display_name": "Python 3",
   "language": "python",
   "name": "python3"
  },
  "language_info": {
   "codemirror_mode": {
    "name": "ipython",
    "version": 3
   },
   "file_extension": ".py",
   "mimetype": "text/x-python",
   "name": "python",
   "nbconvert_exporter": "python",
   "pygments_lexer": "ipython3",
   "version": "3.6.3"
  }
 },
 "nbformat": 4,
 "nbformat_minor": 2
}
