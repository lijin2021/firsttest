{
 "cells": [
  {
   "cell_type": "code",
   "execution_count": 1,
   "metadata": {
    "collapsed": true
   },
   "outputs": [],
   "source": [
    "import re"
   ]
  },
  {
   "cell_type": "code",
   "execution_count": 2,
   "metadata": {
    "collapsed": true
   },
   "outputs": [],
   "source": [
    "import requests\n",
    "from bs4 import BeautifulSoup"
   ]
  },
  {
   "cell_type": "code",
   "execution_count": 3,
   "metadata": {
    "collapsed": true
   },
   "outputs": [],
   "source": [
    "import bs4"
   ]
  },
  {
   "cell_type": "code",
   "execution_count": 5,
   "metadata": {},
   "outputs": [
    {
     "name": "stdout",
     "output_type": "stream",
     "text": [
      "序号  \t价格      \t商品名称            \n",
      "   0\t169.00  \t瑞士军刀男士双肩背包旅行商务出差电脑书包\n",
      "   1\t97.00   \t卡帝乐双肩包男背包女韩版初中高中学生书包男士商务电脑旅行包\n",
      "   2\t39.90   \t迪卡侬双肩包运动背包男女健身包书包儿童学生户外旅行包KIPSTA\n",
      "   3\t258.00  \t电视剧款JanSport旗舰店官网杰斯伯双肩包时尚女书包背包男大容量\n",
      "   4\t139.00  \tAdidas阿迪达斯男包女包大容量学生书包运动包旅行背包双肩包潮包\n",
      "   5\t79.90   \t森马双肩包女韩版 休闲校园简约学院背包潮旅行包高中学生书包男\n",
      "   6\t149.00  \t小米双肩包简约休闲多功能书包男女笔记本电脑包时尚潮流旅行背包\n",
      "   7\t99.00   \t稻草人休闲双肩包简约韩版中学生校园书包大容量旅行背包男女时尚\n",
      "   8\t559.00  \tFjallraven/北极狐双肩包kanken classic书包女户外旅行背包23510\n",
      "   9\t79.00   \t双肩包男士背包大容量旅行包电脑休闲女时尚潮流高中初中学生书包\n",
      "  10\t139.00  \t李宁双肩包男士女士2019新款训练系列背包书包学生电脑包运动包\n",
      "  11\t129.00  \tadidas阿迪达斯书包男包女包旅行登山双肩包运动包休闲背包DJ1542\n",
      "  12\t209.00  \tNike耐克双肩包男包女包Air Max气垫学生书包电脑包背包旅行包\n",
      "  13\t109.90  \t美特斯邦威旗舰店官方网店双肩包男女旅行背包春秋季多色学生书包\n",
      "  14\t168.00  \t美洲野牛双肩包男韩版休闲背包大容量旅行包学生书包时尚潮流背包\n",
      "  15\t149.00  \t鳄鱼男士双肩包大容量商务休闲电脑背包旅行简约学生时尚潮流书包\n",
      "  16\t258.00  \tJanSport旗舰店官网杰斯伯双肩包女书包纯色男士女士背包T501 9FL\n",
      "  17\t139.00  \tAdidas阿迪达斯男包女包2019新款运动包双肩背包电脑包书包DM6145\n",
      "  18\t129.90  \t森马双肩包女大学生韩版个性休闲校园背包女大容量书包男时尚潮流\n",
      "  19\t142.00  \t七匹狼包商务双肩包男韩版潮 大中学生书包背包 男包旅行包电脑包\n",
      "  20\t139.00  \t美特斯邦威双肩包女2019春季新款多袋韩版少女可爱小清新旅行书包\n",
      "  21\t69.00   \t休闲双肩包男士韩版简约电脑旅行背包女时尚潮流初中高中学生书包\n",
      "  22\t119.00  \t巴朗商务双肩包休闲时尚潮流大学生书包15.6寸电脑包男士背包男潮\n",
      "  23\t189.00  \t李宁双肩包男包女包2019新款韦德系列背包书包学生运动包ABSP136\n",
      "  24\t129.00  \tAdidas阿迪达斯背包男包双肩包大容量旅行户外运动学生书包CF9007\n",
      "  25\t99.00   \tSPAO新款情侣款学院风书包韩版原宿双肩背包SPAK822A71\n",
      "  26\t199.00  \taza包包女2019新款书包女韩版大学生背包ins超火旅行牛津布双肩包\n",
      "  27\t139.00  \tMIUI/小米小米双肩包简约休闲多功能书包男女笔记本电脑包背包\n",
      "  28\t159.00  \tMr.ace Homme双肩包女韩版大容量高中学生书包电脑背包男15寸旅行\n",
      "  29\t199.00  \t稻草人背包男双肩包韩版大容量学生书包简约时尚潮流港风旅行包女\n",
      "  30\t99.00   \t阿迪达斯背包 男女学生书包电脑双肩包 商旅 运动包CF9008 AX6936\n",
      "  31\t59.00   \t背包男士双肩包韩版青年电脑旅行校园初中高中学生书包男时尚潮流\n",
      "  32\t129.00  \t七匹狼双肩包男旅行背包女大容量电脑包高中初中学生书包时尚潮流\n",
      "  33\t119.00  \tkk树书包小学生男孩1-3-4-5年级儿童背包女孩6-12周岁双肩包护脊\n",
      "  34\t169.00  \tMr.ace Homme新款双肩包女韩版学生书包15寸大容量电脑背包旅行包\n",
      "  35\t189.00  \t不莱玫尼龙双肩包女2019新款韩版古着感学生书包潮牌背包大旅行包\n",
      "  36\t109.00  \tDiscovery户外双肩背包男双肩包植物系运动书包女印花双肩背包女\n",
      "  37\t239.00  \tPuma彪马男包女包2019春季新款旅行包书包运动包双肩包透气背包\n",
      "  38\t143.00  \tVANWALK双肩包女纯色高中学生书包韩版校园背包休闲出走旅行包\n",
      "  39\t348.00  \t爆款anello官方旗舰店日本ins潮风双肩女背包男离家出走包书包\n",
      "  40\t142.00  \t七匹狼商务双肩包男士背包女韩版中学生书包休闲男包旅行包电脑包\n",
      "  41\t139.00  \t赫登尔双肩包男士潮流背包男韩版旅行包时尚休闲学生书包电脑包潮\n",
      "  42\t289.00  \tDickies官方双肩包情侣款多色学院风书包纯色背包171G90WD23\n",
      "  43\t139.00  \t2019新款ins超火潮牌双肩包韩版大学生百搭旅行背包大容量书包女\n",
      "  44\t169.00  \t骆驼背包 新款男女士双肩包时尚休闲背包青年大容量旅行电脑书包\n",
      "  45\t289.00  \tDickies官方春夏新款微笑字母印花纯色情侣双肩包书包173G90WD25\n",
      "  46\t118.00  \t迪士尼商店 漫威复仇者联盟：无限战争双肩包学生书包时尚背包\n",
      "  47\t239.00  \t潮牌Dickies帝客彩色LOGO大容量双肩包女男学生背包纯色书包C028\n",
      "  48\t239.00  \t潮牌Dickies帝客彩色LOGO大容量双肩包女男学生背包纯色书包C028\n",
      "  49\t99.00   \t特步男女双肩包2019春夏新款几何线条简约男包女包书包旅游包休闲\n",
      "  50\t399.00  \t小米双肩包男士电脑背包大容量笔记本书包商务休闲时尚学生背包\n",
      "  51\t79.00   \t艾奔双肩包大学生电脑背包时尚潮流初中高中学生书包学院风旅行包\n",
      "  52\t199.00  \t匡威Converse2019新款男款双肩背包经典款运动包女款书包10007784\n",
      "  53\t59.00   \t李宁双肩包儿童幼儿园小学生书包女士小背包运动出行lining双肩包\n",
      "  54\t447.00  \tFjallraven/北极狐双肩包kanken mini 迷你情侣书包背包女23561\n",
      "  55\t139.00  \t美洲野牛双肩包男韩版时尚潮流书包男青年电脑包轻便休闲简约背包\n",
      "  56\t86.00   \t双肩包男士简约轻便旅行背包潮牌韩版学生书包休闲时尚潮流电脑包\n",
      "  57\t99.90   \t森马双肩包男大容量休闲旅行包韩版学生书包女时尚潮流 男士背包\n",
      "  58\t398.00  \tJanSport杰斯伯双肩包34升大容量电脑包男女背包学生书包TDN7集合\n",
      "  59\t159.00  \tPUMA彪马男包女包2019夏季新款学生书包运动双肩包旅游背包074799\n",
      "  60\t119.00  \t双肩包女潮2019新款韩版百搭高中学生书包ins风大容量背包男防水\n",
      "  61\t99.90   \t森马双肩包女森系大学生韩版休闲学院风尼龙小背包女出游书包简约\n",
      "  62\t198.00  \tJanSport旗舰店官网杰斯伯双肩包女书包男T501 0L2\n",
      "  63\t159.00  \tMr.ace Homme时尚学生15寸电脑背包潮流简约旅行双肩包校园书包男\n",
      "  64\t179.00  \t李宁双肩包男包女包韦德系列背包书包学生运动包\n",
      "  65\t159.00  \tPuma/彪马男包女包2019新款帆布电脑包休闲双肩包书包背包074706\n",
      "  66\t119.00  \t李宁双肩包男包新款BAD FIVE篮球背包书包春夏季运动包ABSN031\n",
      "  67\t69.00   \t牧之逸双肩包男休闲帆布旅行背包初中高中大学生书包男女时尚潮流\n",
      "  68\t139.00  \tAdidas/阿迪达斯双肩包男女学生书包大容量旅游包电脑背包BQ6940\n",
      "  69\t79.00   \tTnTee双肩包女日韩休闲校园简约学院背包潮旅行包高中学生书包男\n",
      "  70\t199.00  \t阿迪达斯双肩包Adidas运动包背包男包女包学生书包电脑包DT2626\n",
      "  71\t139.00  \t不莱玫双肩包女2019新款古着书包女大学生背包男时尚潮流小旅行包\n",
      "  72\t79.00   \t美特斯邦威双肩包男女夏季新品时尚潮流书包多色休闲情侣款旅行包\n",
      "  73\t139.00  \tAdidas阿迪达斯男女运动包大容量双肩包学生书包旅行包背包BR5864\n",
      "  74\t149.00  \t七匹狼双肩包男士背包女商务电脑包旅行包中学生书包时尚潮流帆布\n",
      "  75\t139.00  \tAdidas/阿迪达斯双肩包男包女包电脑包学生书包运动包减压背包\n",
      "  76\t119.00  \tTnTee2019春夏男士双肩包大容量功能性书包旅行简约户外背包学生\n",
      "  77\t219.00  \tDickies帝客2018新款ins原宿简约潮流书包纯色logo双肩包情侣C812\n",
      "  78\t29.00   \t小米双肩包米家小背包男女通用运动包日常休闲双肩包学生书包\n",
      "  79\t129.00  \t阿迪达斯adidas 2019新款曼联足球运动男女大容量双肩书包DQ1525\n",
      "  80\t169.00  \t特步双肩包运动背包男女书包2019新款都市休闲时尚简约潮流背包\n",
      "  81\t143.00  \tVANWALK纯色双肩包女韩版大容量高中学生书包校园背包休闲旅行包\n",
      "  82\t129.00  \t稻草人双肩包男多功能大容量旅行包休闲商务背包电脑包学生书包女\n",
      "  83\t129.00  \t特步官方旗舰店2019春季新款男女双肩包书包运动背包旅游包耐用\n",
      "  84\t185.00  \t耐克nike正品运动背包双肩包男健身女学生校园书包轻便旅行BA5329\n",
      "  85\t109.00  \t稻草人双肩包男韩版潮流休闲背包大容量耐磨简约轻便学生书包\n",
      "  86\t189.00  \tDRACONITE涂鸦印花中学生书包欧美时尚休闲双肩包男背包11019\n",
      "  87\t228.00  \t初音未来正版周边双肩包Vocaloid/V家二次元动漫男女背包学生书包\n",
      "  88\t129.00  \t米熙背包男双肩包男士大容量学生书包休闲商务电脑包女旅游旅行包\n",
      "  89\t279.00  \t莱夫2019新款双肩包女帆布大容量商务电脑包牛津布旅行背包女书包\n",
      "  90\t119.00  \tkk树书包小学生女孩6-12周岁儿童1-3-6年级女童双肩背包护脊减负\n",
      "  91\t198.90  \t小米 米兔儿童书包 6-12岁男女小学生潮双肩背包幼儿园大容量背包\n",
      "None\n"
     ]
    }
   ],
   "source": [
    "def getHTMLText(url):\n",
    "    try:\n",
    "        kv={'cookie':'thw=cn; t=67bb8663b8dd8e29b94ea84c00ce5330; cna=j6zZFDQiiT8CAXWICyvi04YJ; tg=0; enc=lEWK%2FIZ53NLo3Z4T9wU%2Bl29shFf9piKCE%2Fa1%2F5zR9MKf9Czjzjcc%2FB%2F0UXUBUm%2FDTbGSRpLsa8oKWT1drtUc6g%3D%3D; hng=CN%7Czh-CN%7CCNY%7C156; _m_h5_tk=6394ab84a753ec6a4111e15b804d35e8_1554028272345; _m_h5_tk_enc=f7049584399ec6c05f09f820ed1441e1; x=e%3D1%26p%3D*%26s%3D0%26c%3D0%26f%3D0%26g%3D0%26t%3D0%26__ll%3D-1%26_ato%3D0; cookie2=1ea1c83be61535668aee249473aab937; _tb_token_=e9337a6f33e7e; v=0; unb=1060095472; sg=723; _l_g_=Ug%3D%3D; skt=07b46115ee29599b; cookie1=VyyQ4IYcau6e%2BpTcv%2FPNYyaELb9lbT7d%2FO5o8nzgWn4%3D; csg=f06dbf6b; uc3=vt3=F8dByEnaTYHqOyBKaac%3D&id2=UoH5Z3V%2BCFsSlw%3D%3D&nk2=D8m5XJOkseY7GMg%3D&lg2=VFC%2FuZ9ayeYq2g%3D%3D; existShop=MTU1NDAyOTM0MQ%3D%3D; tracknick=lj548502587; lgc=lj548502587; _cc_=W5iHLLyFfA%3D%3D; dnk=lj548502587; _nk_=lj548502587; cookie17=UoH5Z3V%2BCFsSlw%3D%3D; uc1=cookie16=VFC%2FuZ9az08KUQ56dCrZDlbNdA%3D%3D&cookie21=U%2BGCWk%2F7pY%2FF&cookie15=WqG3DMC9VAQiUQ%3D%3D&existShop=false&pas=0&cookie14=UoTZ4M%2Bu9QcIcw%3D%3D&tag=8&lng=zh_CN; mt=ci=16_1; l=bBxbeGPIv2_PyqYABOCi5Zwjn07OSIRYjuWjlJ59i_5wE6L1ZL7Oli3GnFp6Vj5Rs-LB4082vew9-etki; isg=BCUlEUs6lYQI2PHYwMyOz1CpNOFVfIMIeMJ2kicK4dxrPkWw77LpxLPYyOLtBfGs'\n",
    "          }\n",
    "        r=requests.get(url,headers=kv)\n",
    "        r.raise_for_status()\n",
    "        r.encoding=r.apparent_encoding\n",
    "        return r.text\n",
    "    except:\n",
    "        return \"3\"\n",
    "def parsePge(ilt,html):\n",
    "    try:\n",
    "        plt=re.findall(r'\\\"view_price\\\"\\:\\\"[\\d\\.]*\\\"',html)\n",
    "        tlt=re.findall(r'\\\"raw_title\\\"\\:\\\".*?\\\"',html)\n",
    "        for i in range(len(plt)):\n",
    "            price=eval(plt[i].split(':')[1])\n",
    "            title=eval(tlt[i].split(':')[1])\n",
    "            ilt.append([price,title])\n",
    "    except:\n",
    "        print(\"4\")\n",
    "def printGoodsList(ilt):\n",
    "    tplt=\"{:4}\\t{:8}\\t{:16}\"\n",
    "    print(tplt.format(\"序号\",\"价格\",\"商品名称\"))\n",
    "    for i in range(len(ilt)):\n",
    "        u=ilt[i]\n",
    "        print(tplt.format(i,u[0],u[1]))\n",
    "def main():\n",
    "    goods='书包'\n",
    "    depth=2\n",
    "    start_url='https://s.taobao.com/search?q='+goods\n",
    "    inforList=[]\n",
    "    for i in range(depth):\n",
    "        try:\n",
    "            url=start_url+'&s='+str(44*i)\n",
    "            html=getHTMLText(url)\n",
    "            parsePge(inforList,html)\n",
    "            \n",
    "        except:\n",
    "            continue\n",
    "    printGoodsList(inforList)\n",
    "print(main())"
   ]
  },
  {
   "cell_type": "code",
   "execution_count": 6,
   "metadata": {},
   "outputs": [
    {
     "ename": "NameError",
     "evalue": "name 'requests' is not defined",
     "output_type": "error",
     "traceback": [
      "\u001b[1;31m---------------------------------------------------------------------------\u001b[0m",
      "\u001b[1;31mNameError\u001b[0m                                 Traceback (most recent call last)",
      "\u001b[1;32m<ipython-input-6-02011610017a>\u001b[0m in \u001b[0;36m<module>\u001b[1;34m()\u001b[0m\n\u001b[0;32m      1\u001b[0m kv={'cookie':'thw=cn; t=67bb8663b8dd8e29b94ea84c00ce5330; cookie2=164407be397abbdb1b510386e649e0e7; _tb_token_=ee733f931e035; cna=j6zZFDQiiT8CAXWICyvi04YJ; tg=0; enc=lEWK%2FIZ53NLo3Z4T9wU%2Bl29shFf9piKCE%2Fa1%2F5zR9MKf9Czjzjcc%2FB%2F0UXUBUm%2FDTbGSRpLsa8oKWT1drtUc6g%3D%3D; hng=CN%7Czh-CN%7CCNY%7C156; _m_h5_tk=6394ab84a753ec6a4111e15b804d35e8_1554028272345; _m_h5_tk_enc=f7049584399ec6c05f09f820ed1441e1; v=0; unb=1060095472; sg=723; _l_g_=Ug%3D%3D; skt=4925edd4811676b1; cookie1=VyyQ4IYcau6e%2BpTcv%2FPNYyaELb9lbT7d%2FO5o8nzgWn4%3D; csg=452ee2d5; uc3=vt3=F8dByEnaTtqI%2B94EfOM%3D&id2=UoH5Z3V%2BCFsSlw%3D%3D&nk2=D8m5XJOkseY7GMg%3D&lg2=V32FPkk%2Fw0dUvg%3D%3D; existShop=MTU1NDAyMDM4Ng%3D%3D; tracknick=lj548502587; lgc=lj548502587; _cc_=WqG3DMC9EA%3D%3D; dnk=lj548502587; _nk_=lj548502587; cookie17=UoH5Z3V%2BCFsSlw%3D%3D; mt=ci=16_1; whl=-1%260%260%260; uc1=cookie16=Vq8l%2BKCLySLZMFWHxqs8fwqnEw%3D%3D&cookie21=VT5L2FSpczFp&cookie15=URm48syIIVrSKA%3D%3D&existShop=false&pas=0&cookie14=UoTZ4M%2Bu%2FKmnug%3D%3D&tag=8&lng=zh_CN; x=e%3D1%26p%3D*%26s%3D0%26c%3D0%26f%3D0%26g%3D0%26t%3D0%26__ll%3D-1%26_ato%3D0; l=bBxbeGPIv2_PycXMBOCi5Zwjn07OSIRYjuWjlJ59i_5CC6LsIe7OliptgFp6Vj5Rs-LB4082vew9-etki; isg=BKioBkcBYOvmqkxvRb97UE3qeZawz1YnteErhWLZ9CMWvUgnCuHcaz77tRXotsSz'\n\u001b[0;32m      2\u001b[0m           }\n\u001b[1;32m----> 3\u001b[1;33m \u001b[0mh\u001b[0m\u001b[1;33m=\u001b[0m\u001b[0mrequests\u001b[0m\u001b[1;33m.\u001b[0m\u001b[0mget\u001b[0m\u001b[1;33m(\u001b[0m\u001b[1;34m'https://s.taobao.com/search?q=书包&imgfile=&commend=all&ssid=s5-e&search_type=item&sourceId=tb.index&spm=a21bo.2017.201856-taobao-item.1&ie=utf8&initiative_id=tbindexz_20170306'\u001b[0m\u001b[1;33m,\u001b[0m\u001b[0mheaders\u001b[0m\u001b[1;33m=\u001b[0m\u001b[0mkv\u001b[0m\u001b[1;33m)\u001b[0m\u001b[1;33m\u001b[0m\u001b[0m\n\u001b[0m\u001b[0;32m      4\u001b[0m \u001b[0mh\u001b[0m\u001b[1;33m.\u001b[0m\u001b[0mencoding\u001b[0m\u001b[1;33m=\u001b[0m\u001b[0mh\u001b[0m\u001b[1;33m.\u001b[0m\u001b[0mapparent_encoding\u001b[0m\u001b[1;33m\u001b[0m\u001b[0m\n\u001b[0;32m      5\u001b[0m \u001b[0mh\u001b[0m\u001b[1;33m.\u001b[0m\u001b[0mtext\u001b[0m\u001b[1;33m\u001b[0m\u001b[0m\n",
      "\u001b[1;31mNameError\u001b[0m: name 'requests' is not defined"
     ]
    }
   ],
   "source": [
    "kv={'cookie':'thw=cn; t=67bb8663b8dd8e29b94ea84c00ce5330; cookie2=164407be397abbdb1b510386e649e0e7; _tb_token_=ee733f931e035; cna=j6zZFDQiiT8CAXWICyvi04YJ; tg=0; enc=lEWK%2FIZ53NLo3Z4T9wU%2Bl29shFf9piKCE%2Fa1%2F5zR9MKf9Czjzjcc%2FB%2F0UXUBUm%2FDTbGSRpLsa8oKWT1drtUc6g%3D%3D; hng=CN%7Czh-CN%7CCNY%7C156; _m_h5_tk=6394ab84a753ec6a4111e15b804d35e8_1554028272345; _m_h5_tk_enc=f7049584399ec6c05f09f820ed1441e1; v=0; unb=1060095472; sg=723; _l_g_=Ug%3D%3D; skt=4925edd4811676b1; cookie1=VyyQ4IYcau6e%2BpTcv%2FPNYyaELb9lbT7d%2FO5o8nzgWn4%3D; csg=452ee2d5; uc3=vt3=F8dByEnaTtqI%2B94EfOM%3D&id2=UoH5Z3V%2BCFsSlw%3D%3D&nk2=D8m5XJOkseY7GMg%3D&lg2=V32FPkk%2Fw0dUvg%3D%3D; existShop=MTU1NDAyMDM4Ng%3D%3D; tracknick=lj548502587; lgc=lj548502587; _cc_=WqG3DMC9EA%3D%3D; dnk=lj548502587; _nk_=lj548502587; cookie17=UoH5Z3V%2BCFsSlw%3D%3D; mt=ci=16_1; whl=-1%260%260%260; uc1=cookie16=Vq8l%2BKCLySLZMFWHxqs8fwqnEw%3D%3D&cookie21=VT5L2FSpczFp&cookie15=URm48syIIVrSKA%3D%3D&existShop=false&pas=0&cookie14=UoTZ4M%2Bu%2FKmnug%3D%3D&tag=8&lng=zh_CN; x=e%3D1%26p%3D*%26s%3D0%26c%3D0%26f%3D0%26g%3D0%26t%3D0%26__ll%3D-1%26_ato%3D0; l=bBxbeGPIv2_PycXMBOCi5Zwjn07OSIRYjuWjlJ59i_5CC6LsIe7OliptgFp6Vj5Rs-LB4082vew9-etki; isg=BKioBkcBYOvmqkxvRb97UE3qeZawz1YnteErhWLZ9CMWvUgnCuHcaz77tRXotsSz'\n",
    "          }\n",
    "h=requests.get('https://s.taobao.com/search?q=书包&imgfile=&commend=all&ssid=s5-e&search_type=item&sourceId=tb.index&spm=a21bo.2017.201856-taobao-item.1&ie=utf8&initiative_id=tbindexz_20170306',headers=kv)\n",
    "h.encoding=h.apparent_encoding\n",
    "h.text\n",
    "\n",
    "\n"
   ]
  },
  {
   "cell_type": "code",
   "execution_count": null,
   "metadata": {
    "collapsed": true
   },
   "outputs": [],
   "source": []
  },
  {
   "cell_type": "code",
   "execution_count": null,
   "metadata": {
    "collapsed": true
   },
   "outputs": [],
   "source": []
  }
 ],
 "metadata": {
  "kernelspec": {
   "display_name": "Python 3",
   "language": "python",
   "name": "python3"
  },
  "language_info": {
   "codemirror_mode": {
    "name": "ipython",
    "version": 3
   },
   "file_extension": ".py",
   "mimetype": "text/x-python",
   "name": "python",
   "nbconvert_exporter": "python",
   "pygments_lexer": "ipython3",
   "version": "3.6.3"
  }
 },
 "nbformat": 4,
 "nbformat_minor": 2
}
